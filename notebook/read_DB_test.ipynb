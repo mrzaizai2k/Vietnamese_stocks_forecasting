{
 "cells": [
  {
   "cell_type": "code",
   "execution_count": 1,
   "metadata": {},
   "outputs": [
    {
     "name": "stdout",
     "output_type": "stream",
     "text": [
      "/root/code_Bao/Vietnamese_stocks_forecasting/notebook\n"
     ]
    }
   ],
   "source": [
    "import os\n",
    "try:\n",
    "    print(file_path)\n",
    "except:\n",
    "    file_path = os.path.abspath('')\n",
    "    os.chdir(os.path.dirname(file_path))\n",
    "    print(file_path)"
   ]
  },
  {
   "cell_type": "code",
   "execution_count": 2,
   "metadata": {},
   "outputs": [],
   "source": [
    "import numpy as np\n",
    "import pandas as pd\n",
    "pd.set_option('display.max_columns', None)\n",
    "\n",
    "# Draw\n",
    "import math\n",
    "\n",
    "from vnstock import * #Load vietnamese data\n",
    "import holidays # Load Vietnamese holidays\n",
    "\n",
    "from tqdm import tqdm\n",
    "import yaml\n",
    "\n",
    "from src.utils.config_parse import DataConfigReader\n",
    "from src.database.feature_engineer import *\n",
    "from src.database.ts_fill_data import *\n",
    "from src.utils.convert_data_type import TypeConverter\n",
    "from src.database.ts_raw_preprocessing import HistoryStockPreprocess"
   ]
  },
  {
   "cell_type": "markdown",
   "metadata": {},
   "source": [
    "# Read data"
   ]
  },
  {
   "cell_type": "code",
   "execution_count": 3,
   "metadata": {},
   "outputs": [],
   "source": [
    "symbol = 'MWG'\n",
    "start_date = \"2021-01-01\" #(YYYY-MM-DD)\n",
    "end_date = '2023-07-18'"
   ]
  },
  {
   "cell_type": "code",
   "execution_count": 4,
   "metadata": {},
   "outputs": [],
   "source": [
    "data_config = DataConfigReader(\n",
    "    data_config_path='config/raw_data_config.yaml',\n",
    "    dtype_config_path='config/data_type_dict.yaml',\n",
    "    section='Historical_price'\n",
    ")"
   ]
  },
  {
   "cell_type": "code",
   "execution_count": 5,
   "metadata": {},
   "outputs": [
    {
     "data": {
      "text/html": [
       "<div>\n",
       "<style scoped>\n",
       "    .dataframe tbody tr th:only-of-type {\n",
       "        vertical-align: middle;\n",
       "    }\n",
       "\n",
       "    .dataframe tbody tr th {\n",
       "        vertical-align: top;\n",
       "    }\n",
       "\n",
       "    .dataframe thead th {\n",
       "        text-align: right;\n",
       "    }\n",
       "</style>\n",
       "<table border=\"1\" class=\"dataframe\">\n",
       "  <thead>\n",
       "    <tr style=\"text-align: right;\">\n",
       "      <th></th>\n",
       "      <th>time</th>\n",
       "      <th>open</th>\n",
       "      <th>high</th>\n",
       "      <th>low</th>\n",
       "      <th>close</th>\n",
       "      <th>volume</th>\n",
       "      <th>ticker</th>\n",
       "    </tr>\n",
       "  </thead>\n",
       "  <tbody>\n",
       "    <tr>\n",
       "      <th>0</th>\n",
       "      <td>2021-01-04</td>\n",
       "      <td>39080</td>\n",
       "      <td>39430</td>\n",
       "      <td>39010</td>\n",
       "      <td>39430</td>\n",
       "      <td>1147400</td>\n",
       "      <td>MWG</td>\n",
       "    </tr>\n",
       "    <tr>\n",
       "      <th>1</th>\n",
       "      <td>2021-01-05</td>\n",
       "      <td>39230</td>\n",
       "      <td>40090</td>\n",
       "      <td>39100</td>\n",
       "      <td>39860</td>\n",
       "      <td>967500</td>\n",
       "      <td>MWG</td>\n",
       "    </tr>\n",
       "    <tr>\n",
       "      <th>2</th>\n",
       "      <td>2021-01-06</td>\n",
       "      <td>40210</td>\n",
       "      <td>40210</td>\n",
       "      <td>39460</td>\n",
       "      <td>39660</td>\n",
       "      <td>995500</td>\n",
       "      <td>MWG</td>\n",
       "    </tr>\n",
       "    <tr>\n",
       "      <th>3</th>\n",
       "      <td>2021-01-07</td>\n",
       "      <td>39400</td>\n",
       "      <td>39630</td>\n",
       "      <td>39130</td>\n",
       "      <td>39500</td>\n",
       "      <td>1118100</td>\n",
       "      <td>MWG</td>\n",
       "    </tr>\n",
       "    <tr>\n",
       "      <th>4</th>\n",
       "      <td>2021-01-08</td>\n",
       "      <td>39500</td>\n",
       "      <td>40180</td>\n",
       "      <td>39500</td>\n",
       "      <td>39830</td>\n",
       "      <td>1277600</td>\n",
       "      <td>MWG</td>\n",
       "    </tr>\n",
       "  </tbody>\n",
       "</table>\n",
       "</div>"
      ],
      "text/plain": [
       "         time   open   high    low  close   volume ticker\n",
       "0  2021-01-04  39080  39430  39010  39430  1147400    MWG\n",
       "1  2021-01-05  39230  40090  39100  39860   967500    MWG\n",
       "2  2021-01-06  40210  40210  39460  39660   995500    MWG\n",
       "3  2021-01-07  39400  39630  39130  39500  1118100    MWG\n",
       "4  2021-01-08  39500  40180  39500  39830  1277600    MWG"
      ]
     },
     "execution_count": 5,
     "metadata": {},
     "output_type": "execute_result"
    }
   ],
   "source": [
    "data_path = 'data/raw/historical_price/MWG.csv'\n",
    "df = pd.read_csv(data_path, usecols= data_config.read_column_names(), \n",
    "                 dtype=data_config.read_data_type())\n",
    "df.head()"
   ]
  },
  {
   "cell_type": "code",
   "execution_count": 6,
   "metadata": {},
   "outputs": [],
   "source": [
    "df_temp = df.copy()"
   ]
  },
  {
   "cell_type": "code",
   "execution_count": 7,
   "metadata": {},
   "outputs": [],
   "source": [
    "data_purpose = data_config.read_data_purpose()"
   ]
  },
  {
   "cell_type": "code",
   "execution_count": 8,
   "metadata": {},
   "outputs": [
    {
     "data": {
      "text/plain": [
       "{'num_cols': ['open', 'high', 'low', 'close', 'volume'],\n",
       " 'cat_cols': ['ticker'],\n",
       " 'date_cols': ['time'],\n",
       " 'ma_cols': ['close', 'volume'],\n",
       " 'pct_cols': ['close'],\n",
       " 'lag_cols': ['close', 'volume']}"
      ]
     },
     "execution_count": 8,
     "metadata": {},
     "output_type": "execute_result"
    }
   ],
   "source": [
    "data_purpose"
   ]
  },
  {
   "cell_type": "code",
   "execution_count": 9,
   "metadata": {},
   "outputs": [
    {
     "name": "stdout",
     "output_type": "stream",
     "text": [
      "There are 0 duplicate rows.\n",
      "Duplicated rows has been removed!\n"
     ]
    }
   ],
   "source": [
    "duplicate_checker = DuplicateCheck(df)\n",
    "df = duplicate_checker.remove_duplicate_rows()"
   ]
  },
  {
   "cell_type": "code",
   "execution_count": 10,
   "metadata": {},
   "outputs": [
    {
     "name": "stdout",
     "output_type": "stream",
     "text": [
      "<class 'pandas.core.frame.DataFrame'>\n",
      "RangeIndex: 132 entries, 0 to 131\n",
      "Data columns (total 7 columns):\n",
      " #   Column  Non-Null Count  Dtype   \n",
      "---  ------  --------------  -----   \n",
      " 0   time    132 non-null    object  \n",
      " 1   open    132 non-null    int64   \n",
      " 2   high    132 non-null    int64   \n",
      " 3   low     132 non-null    int64   \n",
      " 4   close   132 non-null    int64   \n",
      " 5   volume  132 non-null    int64   \n",
      " 6   ticker  132 non-null    category\n",
      "dtypes: category(1), int64(5), object(1)\n",
      "memory usage: 6.4+ KB\n"
     ]
    }
   ],
   "source": [
    "df.info()"
   ]
  },
  {
   "cell_type": "code",
   "execution_count": 11,
   "metadata": {},
   "outputs": [],
   "source": [
    "type_converter = TypeConverter(df, data_purpose)\n",
    "df = type_converter.convert_types()"
   ]
  },
  {
   "cell_type": "code",
   "execution_count": 12,
   "metadata": {},
   "outputs": [
    {
     "data": {
      "text/plain": [
       "Index(['time', 'open', 'high', 'low', 'close', 'volume', 'ticker'], dtype='object')"
      ]
     },
     "execution_count": 12,
     "metadata": {},
     "output_type": "execute_result"
    }
   ],
   "source": [
    "df.columns"
   ]
  },
  {
   "cell_type": "code",
   "execution_count": 13,
   "metadata": {},
   "outputs": [
    {
     "name": "stdout",
     "output_type": "stream",
     "text": [
      "There are 0 duplicate rows.\n",
      "Duplicated rows has been removed!\n"
     ]
    }
   ],
   "source": [
    "duplicate_checker = DuplicateCheck(df)\n",
    "df = duplicate_checker.remove_duplicate_rows()"
   ]
  },
  {
   "cell_type": "code",
   "execution_count": 14,
   "metadata": {},
   "outputs": [
    {
     "data": {
      "text/html": [
       "<div>\n",
       "<style scoped>\n",
       "    .dataframe tbody tr th:only-of-type {\n",
       "        vertical-align: middle;\n",
       "    }\n",
       "\n",
       "    .dataframe tbody tr th {\n",
       "        vertical-align: top;\n",
       "    }\n",
       "\n",
       "    .dataframe thead th {\n",
       "        text-align: right;\n",
       "    }\n",
       "</style>\n",
       "<table border=\"1\" class=\"dataframe\">\n",
       "  <thead>\n",
       "    <tr style=\"text-align: right;\">\n",
       "      <th></th>\n",
       "      <th>time</th>\n",
       "      <th>open</th>\n",
       "      <th>high</th>\n",
       "      <th>low</th>\n",
       "      <th>close</th>\n",
       "      <th>volume</th>\n",
       "      <th>ticker</th>\n",
       "    </tr>\n",
       "  </thead>\n",
       "  <tbody>\n",
       "    <tr>\n",
       "      <th>0</th>\n",
       "      <td>2021-01-04</td>\n",
       "      <td>39080</td>\n",
       "      <td>39430</td>\n",
       "      <td>39010</td>\n",
       "      <td>39430</td>\n",
       "      <td>1147400</td>\n",
       "      <td>MWG</td>\n",
       "    </tr>\n",
       "    <tr>\n",
       "      <th>1</th>\n",
       "      <td>2021-01-05</td>\n",
       "      <td>39230</td>\n",
       "      <td>40090</td>\n",
       "      <td>39100</td>\n",
       "      <td>39860</td>\n",
       "      <td>967500</td>\n",
       "      <td>MWG</td>\n",
       "    </tr>\n",
       "    <tr>\n",
       "      <th>2</th>\n",
       "      <td>2021-01-06</td>\n",
       "      <td>40210</td>\n",
       "      <td>40210</td>\n",
       "      <td>39460</td>\n",
       "      <td>39660</td>\n",
       "      <td>995500</td>\n",
       "      <td>MWG</td>\n",
       "    </tr>\n",
       "    <tr>\n",
       "      <th>3</th>\n",
       "      <td>2021-01-07</td>\n",
       "      <td>39400</td>\n",
       "      <td>39630</td>\n",
       "      <td>39130</td>\n",
       "      <td>39500</td>\n",
       "      <td>1118100</td>\n",
       "      <td>MWG</td>\n",
       "    </tr>\n",
       "    <tr>\n",
       "      <th>4</th>\n",
       "      <td>2021-01-08</td>\n",
       "      <td>39500</td>\n",
       "      <td>40180</td>\n",
       "      <td>39500</td>\n",
       "      <td>39830</td>\n",
       "      <td>1277600</td>\n",
       "      <td>MWG</td>\n",
       "    </tr>\n",
       "  </tbody>\n",
       "</table>\n",
       "</div>"
      ],
      "text/plain": [
       "        time   open   high    low  close   volume ticker\n",
       "0 2021-01-04  39080  39430  39010  39430  1147400    MWG\n",
       "1 2021-01-05  39230  40090  39100  39860   967500    MWG\n",
       "2 2021-01-06  40210  40210  39460  39660   995500    MWG\n",
       "3 2021-01-07  39400  39630  39130  39500  1118100    MWG\n",
       "4 2021-01-08  39500  40180  39500  39830  1277600    MWG"
      ]
     },
     "execution_count": 14,
     "metadata": {},
     "output_type": "execute_result"
    }
   ],
   "source": [
    "df.head()"
   ]
  },
  {
   "cell_type": "code",
   "execution_count": 15,
   "metadata": {},
   "outputs": [],
   "source": [
    "window_widths=[12,26]"
   ]
  },
  {
   "cell_type": "code",
   "execution_count": 16,
   "metadata": {},
   "outputs": [
    {
     "name": "stdout",
     "output_type": "stream",
     "text": [
      "calculate_MA took 0.01 seconds to execute.\n"
     ]
    }
   ],
   "source": [
    "ma_generator = RollingMACalculator(df,MA_cols=data_purpose['ma_cols'], window_widths=window_widths,\n",
    "                                   fill_method = BackwardFillStrategy(limit = max(window_widths)))\n",
    "df = ma_generator.calculate_MA()"
   ]
  },
  {
   "cell_type": "code",
   "execution_count": 17,
   "metadata": {},
   "outputs": [
    {
     "data": {
      "text/html": [
       "<div>\n",
       "<style scoped>\n",
       "    .dataframe tbody tr th:only-of-type {\n",
       "        vertical-align: middle;\n",
       "    }\n",
       "\n",
       "    .dataframe tbody tr th {\n",
       "        vertical-align: top;\n",
       "    }\n",
       "\n",
       "    .dataframe thead th {\n",
       "        text-align: right;\n",
       "    }\n",
       "</style>\n",
       "<table border=\"1\" class=\"dataframe\">\n",
       "  <thead>\n",
       "    <tr style=\"text-align: right;\">\n",
       "      <th></th>\n",
       "      <th>ticker</th>\n",
       "      <th>time</th>\n",
       "      <th>open</th>\n",
       "      <th>high</th>\n",
       "      <th>low</th>\n",
       "      <th>close</th>\n",
       "      <th>volume</th>\n",
       "      <th>close_MA_12</th>\n",
       "      <th>volume_MA_12</th>\n",
       "      <th>close_MA_26</th>\n",
       "      <th>volume_MA_26</th>\n",
       "    </tr>\n",
       "  </thead>\n",
       "  <tbody>\n",
       "    <tr>\n",
       "      <th>0</th>\n",
       "      <td>MWG</td>\n",
       "      <td>2021-01-04</td>\n",
       "      <td>39080</td>\n",
       "      <td>39430</td>\n",
       "      <td>39010</td>\n",
       "      <td>39430</td>\n",
       "      <td>1147400</td>\n",
       "      <td>40518.332031</td>\n",
       "      <td>1180933.375</td>\n",
       "      <td>41287.691406</td>\n",
       "      <td>1511592.25</td>\n",
       "    </tr>\n",
       "    <tr>\n",
       "      <th>1</th>\n",
       "      <td>MWG</td>\n",
       "      <td>2021-01-05</td>\n",
       "      <td>39230</td>\n",
       "      <td>40090</td>\n",
       "      <td>39100</td>\n",
       "      <td>39860</td>\n",
       "      <td>967500</td>\n",
       "      <td>40518.332031</td>\n",
       "      <td>1180933.375</td>\n",
       "      <td>41287.691406</td>\n",
       "      <td>1511592.25</td>\n",
       "    </tr>\n",
       "    <tr>\n",
       "      <th>2</th>\n",
       "      <td>MWG</td>\n",
       "      <td>2021-01-06</td>\n",
       "      <td>40210</td>\n",
       "      <td>40210</td>\n",
       "      <td>39460</td>\n",
       "      <td>39660</td>\n",
       "      <td>995500</td>\n",
       "      <td>40518.332031</td>\n",
       "      <td>1180933.375</td>\n",
       "      <td>41287.691406</td>\n",
       "      <td>1511592.25</td>\n",
       "    </tr>\n",
       "    <tr>\n",
       "      <th>3</th>\n",
       "      <td>MWG</td>\n",
       "      <td>2021-01-07</td>\n",
       "      <td>39400</td>\n",
       "      <td>39630</td>\n",
       "      <td>39130</td>\n",
       "      <td>39500</td>\n",
       "      <td>1118100</td>\n",
       "      <td>40518.332031</td>\n",
       "      <td>1180933.375</td>\n",
       "      <td>41287.691406</td>\n",
       "      <td>1511592.25</td>\n",
       "    </tr>\n",
       "    <tr>\n",
       "      <th>4</th>\n",
       "      <td>MWG</td>\n",
       "      <td>2021-01-08</td>\n",
       "      <td>39500</td>\n",
       "      <td>40180</td>\n",
       "      <td>39500</td>\n",
       "      <td>39830</td>\n",
       "      <td>1277600</td>\n",
       "      <td>40518.332031</td>\n",
       "      <td>1180933.375</td>\n",
       "      <td>41287.691406</td>\n",
       "      <td>1511592.25</td>\n",
       "    </tr>\n",
       "  </tbody>\n",
       "</table>\n",
       "</div>"
      ],
      "text/plain": [
       "  ticker       time   open   high    low  close   volume   close_MA_12  \\\n",
       "0    MWG 2021-01-04  39080  39430  39010  39430  1147400  40518.332031   \n",
       "1    MWG 2021-01-05  39230  40090  39100  39860   967500  40518.332031   \n",
       "2    MWG 2021-01-06  40210  40210  39460  39660   995500  40518.332031   \n",
       "3    MWG 2021-01-07  39400  39630  39130  39500  1118100  40518.332031   \n",
       "4    MWG 2021-01-08  39500  40180  39500  39830  1277600  40518.332031   \n",
       "\n",
       "   volume_MA_12   close_MA_26  volume_MA_26  \n",
       "0   1180933.375  41287.691406    1511592.25  \n",
       "1   1180933.375  41287.691406    1511592.25  \n",
       "2   1180933.375  41287.691406    1511592.25  \n",
       "3   1180933.375  41287.691406    1511592.25  \n",
       "4   1180933.375  41287.691406    1511592.25  "
      ]
     },
     "execution_count": 17,
     "metadata": {},
     "output_type": "execute_result"
    }
   ],
   "source": [
    "df.head()"
   ]
  },
  {
   "cell_type": "code",
   "execution_count": 18,
   "metadata": {},
   "outputs": [
    {
     "name": "stdout",
     "output_type": "stream",
     "text": [
      "calculate_pct_change took 0.01 seconds to execute.\n"
     ]
    }
   ],
   "source": [
    "pct_generator = PercentageChangeCalculator(df, pct_cols=data_purpose['pct_cols'], \n",
    "                                         fill_method=ConstantFillStrategy(constant_value=0))\n",
    "df=pct_generator.calculate_pct_change()"
   ]
  },
  {
   "cell_type": "code",
   "execution_count": 19,
   "metadata": {},
   "outputs": [
    {
     "data": {
      "text/html": [
       "<div>\n",
       "<style scoped>\n",
       "    .dataframe tbody tr th:only-of-type {\n",
       "        vertical-align: middle;\n",
       "    }\n",
       "\n",
       "    .dataframe tbody tr th {\n",
       "        vertical-align: top;\n",
       "    }\n",
       "\n",
       "    .dataframe thead th {\n",
       "        text-align: right;\n",
       "    }\n",
       "</style>\n",
       "<table border=\"1\" class=\"dataframe\">\n",
       "  <thead>\n",
       "    <tr style=\"text-align: right;\">\n",
       "      <th></th>\n",
       "      <th>ticker</th>\n",
       "      <th>time</th>\n",
       "      <th>open</th>\n",
       "      <th>high</th>\n",
       "      <th>low</th>\n",
       "      <th>close</th>\n",
       "      <th>volume</th>\n",
       "      <th>close_MA_12</th>\n",
       "      <th>volume_MA_12</th>\n",
       "      <th>close_MA_26</th>\n",
       "      <th>volume_MA_26</th>\n",
       "      <th>close_pct</th>\n",
       "    </tr>\n",
       "  </thead>\n",
       "  <tbody>\n",
       "    <tr>\n",
       "      <th>0</th>\n",
       "      <td>MWG</td>\n",
       "      <td>2021-01-04</td>\n",
       "      <td>39080</td>\n",
       "      <td>39430</td>\n",
       "      <td>39010</td>\n",
       "      <td>39430.0</td>\n",
       "      <td>1147400</td>\n",
       "      <td>40518.332031</td>\n",
       "      <td>1180933.375</td>\n",
       "      <td>41287.691406</td>\n",
       "      <td>1511592.25</td>\n",
       "      <td>0.000000</td>\n",
       "    </tr>\n",
       "    <tr>\n",
       "      <th>1</th>\n",
       "      <td>MWG</td>\n",
       "      <td>2021-01-05</td>\n",
       "      <td>39230</td>\n",
       "      <td>40090</td>\n",
       "      <td>39100</td>\n",
       "      <td>39860.0</td>\n",
       "      <td>967500</td>\n",
       "      <td>40518.332031</td>\n",
       "      <td>1180933.375</td>\n",
       "      <td>41287.691406</td>\n",
       "      <td>1511592.25</td>\n",
       "      <td>0.010905</td>\n",
       "    </tr>\n",
       "    <tr>\n",
       "      <th>2</th>\n",
       "      <td>MWG</td>\n",
       "      <td>2021-01-06</td>\n",
       "      <td>40210</td>\n",
       "      <td>40210</td>\n",
       "      <td>39460</td>\n",
       "      <td>39660.0</td>\n",
       "      <td>995500</td>\n",
       "      <td>40518.332031</td>\n",
       "      <td>1180933.375</td>\n",
       "      <td>41287.691406</td>\n",
       "      <td>1511592.25</td>\n",
       "      <td>-0.005018</td>\n",
       "    </tr>\n",
       "    <tr>\n",
       "      <th>3</th>\n",
       "      <td>MWG</td>\n",
       "      <td>2021-01-07</td>\n",
       "      <td>39400</td>\n",
       "      <td>39630</td>\n",
       "      <td>39130</td>\n",
       "      <td>39500.0</td>\n",
       "      <td>1118100</td>\n",
       "      <td>40518.332031</td>\n",
       "      <td>1180933.375</td>\n",
       "      <td>41287.691406</td>\n",
       "      <td>1511592.25</td>\n",
       "      <td>-0.004034</td>\n",
       "    </tr>\n",
       "    <tr>\n",
       "      <th>4</th>\n",
       "      <td>MWG</td>\n",
       "      <td>2021-01-08</td>\n",
       "      <td>39500</td>\n",
       "      <td>40180</td>\n",
       "      <td>39500</td>\n",
       "      <td>39830.0</td>\n",
       "      <td>1277600</td>\n",
       "      <td>40518.332031</td>\n",
       "      <td>1180933.375</td>\n",
       "      <td>41287.691406</td>\n",
       "      <td>1511592.25</td>\n",
       "      <td>0.008354</td>\n",
       "    </tr>\n",
       "  </tbody>\n",
       "</table>\n",
       "</div>"
      ],
      "text/plain": [
       "  ticker       time   open   high    low    close   volume   close_MA_12  \\\n",
       "0    MWG 2021-01-04  39080  39430  39010  39430.0  1147400  40518.332031   \n",
       "1    MWG 2021-01-05  39230  40090  39100  39860.0   967500  40518.332031   \n",
       "2    MWG 2021-01-06  40210  40210  39460  39660.0   995500  40518.332031   \n",
       "3    MWG 2021-01-07  39400  39630  39130  39500.0  1118100  40518.332031   \n",
       "4    MWG 2021-01-08  39500  40180  39500  39830.0  1277600  40518.332031   \n",
       "\n",
       "   volume_MA_12   close_MA_26  volume_MA_26  close_pct  \n",
       "0   1180933.375  41287.691406    1511592.25   0.000000  \n",
       "1   1180933.375  41287.691406    1511592.25   0.010905  \n",
       "2   1180933.375  41287.691406    1511592.25  -0.005018  \n",
       "3   1180933.375  41287.691406    1511592.25  -0.004034  \n",
       "4   1180933.375  41287.691406    1511592.25   0.008354  "
      ]
     },
     "execution_count": 19,
     "metadata": {},
     "output_type": "execute_result"
    }
   ],
   "source": [
    "df.head()"
   ]
  },
  {
   "cell_type": "code",
   "execution_count": 20,
   "metadata": {},
   "outputs": [],
   "source": [
    "vn_holidays = holidays.VN()"
   ]
  },
  {
   "cell_type": "code",
   "execution_count": 21,
   "metadata": {},
   "outputs": [
    {
     "name": "stdout",
     "output_type": "stream",
     "text": [
      "generate_time_features took 0.01 seconds to execute.\n"
     ]
    }
   ],
   "source": [
    "time_engine = TimeEngine(df, date_col='time', \n",
    "                            special_days=vn_holidays)\n",
    "df = time_engine.generate_time_features() "
   ]
  },
  {
   "cell_type": "code",
   "execution_count": 22,
   "metadata": {},
   "outputs": [
    {
     "data": {
      "text/html": [
       "<div>\n",
       "<style scoped>\n",
       "    .dataframe tbody tr th:only-of-type {\n",
       "        vertical-align: middle;\n",
       "    }\n",
       "\n",
       "    .dataframe tbody tr th {\n",
       "        vertical-align: top;\n",
       "    }\n",
       "\n",
       "    .dataframe thead th {\n",
       "        text-align: right;\n",
       "    }\n",
       "</style>\n",
       "<table border=\"1\" class=\"dataframe\">\n",
       "  <thead>\n",
       "    <tr style=\"text-align: right;\">\n",
       "      <th></th>\n",
       "      <th>ticker</th>\n",
       "      <th>time</th>\n",
       "      <th>open</th>\n",
       "      <th>high</th>\n",
       "      <th>low</th>\n",
       "      <th>close</th>\n",
       "      <th>volume</th>\n",
       "      <th>close_MA_12</th>\n",
       "      <th>volume_MA_12</th>\n",
       "      <th>close_MA_26</th>\n",
       "      <th>volume_MA_26</th>\n",
       "      <th>close_pct</th>\n",
       "      <th>holidays</th>\n",
       "      <th>day_in_week</th>\n",
       "      <th>day_in_month</th>\n",
       "      <th>day_in_year</th>\n",
       "      <th>month_in_year</th>\n",
       "      <th>weekend</th>\n",
       "      <th>time_idx</th>\n",
       "    </tr>\n",
       "  </thead>\n",
       "  <tbody>\n",
       "    <tr>\n",
       "      <th>0</th>\n",
       "      <td>MWG</td>\n",
       "      <td>2021-01-04</td>\n",
       "      <td>39080</td>\n",
       "      <td>39430</td>\n",
       "      <td>39010</td>\n",
       "      <td>39430.0</td>\n",
       "      <td>1147400</td>\n",
       "      <td>40518.332031</td>\n",
       "      <td>1180933.375</td>\n",
       "      <td>41287.691406</td>\n",
       "      <td>1511592.25</td>\n",
       "      <td>0.000000</td>\n",
       "      <td>False</td>\n",
       "      <td>Monday</td>\n",
       "      <td>4</td>\n",
       "      <td>4</td>\n",
       "      <td>1</td>\n",
       "      <td>False</td>\n",
       "      <td>0</td>\n",
       "    </tr>\n",
       "    <tr>\n",
       "      <th>1</th>\n",
       "      <td>MWG</td>\n",
       "      <td>2021-01-05</td>\n",
       "      <td>39230</td>\n",
       "      <td>40090</td>\n",
       "      <td>39100</td>\n",
       "      <td>39860.0</td>\n",
       "      <td>967500</td>\n",
       "      <td>40518.332031</td>\n",
       "      <td>1180933.375</td>\n",
       "      <td>41287.691406</td>\n",
       "      <td>1511592.25</td>\n",
       "      <td>0.010905</td>\n",
       "      <td>False</td>\n",
       "      <td>Tuesday</td>\n",
       "      <td>5</td>\n",
       "      <td>5</td>\n",
       "      <td>1</td>\n",
       "      <td>False</td>\n",
       "      <td>1</td>\n",
       "    </tr>\n",
       "    <tr>\n",
       "      <th>2</th>\n",
       "      <td>MWG</td>\n",
       "      <td>2021-01-06</td>\n",
       "      <td>40210</td>\n",
       "      <td>40210</td>\n",
       "      <td>39460</td>\n",
       "      <td>39660.0</td>\n",
       "      <td>995500</td>\n",
       "      <td>40518.332031</td>\n",
       "      <td>1180933.375</td>\n",
       "      <td>41287.691406</td>\n",
       "      <td>1511592.25</td>\n",
       "      <td>-0.005018</td>\n",
       "      <td>False</td>\n",
       "      <td>Wednesday</td>\n",
       "      <td>6</td>\n",
       "      <td>6</td>\n",
       "      <td>1</td>\n",
       "      <td>False</td>\n",
       "      <td>2</td>\n",
       "    </tr>\n",
       "    <tr>\n",
       "      <th>3</th>\n",
       "      <td>MWG</td>\n",
       "      <td>2021-01-07</td>\n",
       "      <td>39400</td>\n",
       "      <td>39630</td>\n",
       "      <td>39130</td>\n",
       "      <td>39500.0</td>\n",
       "      <td>1118100</td>\n",
       "      <td>40518.332031</td>\n",
       "      <td>1180933.375</td>\n",
       "      <td>41287.691406</td>\n",
       "      <td>1511592.25</td>\n",
       "      <td>-0.004034</td>\n",
       "      <td>False</td>\n",
       "      <td>Thursday</td>\n",
       "      <td>7</td>\n",
       "      <td>7</td>\n",
       "      <td>1</td>\n",
       "      <td>False</td>\n",
       "      <td>3</td>\n",
       "    </tr>\n",
       "    <tr>\n",
       "      <th>4</th>\n",
       "      <td>MWG</td>\n",
       "      <td>2021-01-08</td>\n",
       "      <td>39500</td>\n",
       "      <td>40180</td>\n",
       "      <td>39500</td>\n",
       "      <td>39830.0</td>\n",
       "      <td>1277600</td>\n",
       "      <td>40518.332031</td>\n",
       "      <td>1180933.375</td>\n",
       "      <td>41287.691406</td>\n",
       "      <td>1511592.25</td>\n",
       "      <td>0.008354</td>\n",
       "      <td>False</td>\n",
       "      <td>Friday</td>\n",
       "      <td>8</td>\n",
       "      <td>8</td>\n",
       "      <td>1</td>\n",
       "      <td>False</td>\n",
       "      <td>4</td>\n",
       "    </tr>\n",
       "  </tbody>\n",
       "</table>\n",
       "</div>"
      ],
      "text/plain": [
       "  ticker       time   open   high    low    close   volume   close_MA_12  \\\n",
       "0    MWG 2021-01-04  39080  39430  39010  39430.0  1147400  40518.332031   \n",
       "1    MWG 2021-01-05  39230  40090  39100  39860.0   967500  40518.332031   \n",
       "2    MWG 2021-01-06  40210  40210  39460  39660.0   995500  40518.332031   \n",
       "3    MWG 2021-01-07  39400  39630  39130  39500.0  1118100  40518.332031   \n",
       "4    MWG 2021-01-08  39500  40180  39500  39830.0  1277600  40518.332031   \n",
       "\n",
       "   volume_MA_12   close_MA_26  volume_MA_26  close_pct  holidays day_in_week  \\\n",
       "0   1180933.375  41287.691406    1511592.25   0.000000     False      Monday   \n",
       "1   1180933.375  41287.691406    1511592.25   0.010905     False     Tuesday   \n",
       "2   1180933.375  41287.691406    1511592.25  -0.005018     False   Wednesday   \n",
       "3   1180933.375  41287.691406    1511592.25  -0.004034     False    Thursday   \n",
       "4   1180933.375  41287.691406    1511592.25   0.008354     False      Friday   \n",
       "\n",
       "   day_in_month  day_in_year  month_in_year  weekend  time_idx  \n",
       "0             4            4              1    False         0  \n",
       "1             5            5              1    False         1  \n",
       "2             6            6              1    False         2  \n",
       "3             7            7              1    False         3  \n",
       "4             8            8              1    False         4  "
      ]
     },
     "execution_count": 22,
     "metadata": {},
     "output_type": "execute_result"
    }
   ],
   "source": [
    "df.head()"
   ]
  },
  {
   "cell_type": "code",
   "execution_count": 23,
   "metadata": {},
   "outputs": [],
   "source": [
    "lag_dict = {'close': [1,2,3],\n",
    "            'volume': [1,2,3],\n",
    "            }"
   ]
  },
  {
   "cell_type": "code",
   "execution_count": 24,
   "metadata": {},
   "outputs": [
    {
     "name": "stdout",
     "output_type": "stream",
     "text": [
      "create_lag_features took 0.02 seconds to execute.\n"
     ]
    }
   ],
   "source": [
    "lag_generator = LagEngine(df, lag_dict=lag_dict,\n",
    "                          fill_method=ForwardFillStrategy())\n",
    "df = lag_generator.create_lag_features()"
   ]
  },
  {
   "cell_type": "code",
   "execution_count": 25,
   "metadata": {},
   "outputs": [
    {
     "data": {
      "text/html": [
       "<div>\n",
       "<style scoped>\n",
       "    .dataframe tbody tr th:only-of-type {\n",
       "        vertical-align: middle;\n",
       "    }\n",
       "\n",
       "    .dataframe tbody tr th {\n",
       "        vertical-align: top;\n",
       "    }\n",
       "\n",
       "    .dataframe thead th {\n",
       "        text-align: right;\n",
       "    }\n",
       "</style>\n",
       "<table border=\"1\" class=\"dataframe\">\n",
       "  <thead>\n",
       "    <tr style=\"text-align: right;\">\n",
       "      <th></th>\n",
       "      <th>ticker</th>\n",
       "      <th>time</th>\n",
       "      <th>open</th>\n",
       "      <th>high</th>\n",
       "      <th>low</th>\n",
       "      <th>close</th>\n",
       "      <th>volume</th>\n",
       "      <th>close_MA_12</th>\n",
       "      <th>volume_MA_12</th>\n",
       "      <th>close_MA_26</th>\n",
       "      <th>volume_MA_26</th>\n",
       "      <th>close_pct</th>\n",
       "      <th>holidays</th>\n",
       "      <th>day_in_week</th>\n",
       "      <th>day_in_month</th>\n",
       "      <th>day_in_year</th>\n",
       "      <th>month_in_year</th>\n",
       "      <th>weekend</th>\n",
       "      <th>time_idx</th>\n",
       "      <th>close_lagged_by_1</th>\n",
       "      <th>close_lagged_by_2</th>\n",
       "      <th>close_lagged_by_3</th>\n",
       "      <th>volume_lagged_by_1</th>\n",
       "      <th>volume_lagged_by_2</th>\n",
       "      <th>volume_lagged_by_3</th>\n",
       "    </tr>\n",
       "  </thead>\n",
       "  <tbody>\n",
       "    <tr>\n",
       "      <th>0</th>\n",
       "      <td>MWG</td>\n",
       "      <td>2021-01-04</td>\n",
       "      <td>39080</td>\n",
       "      <td>39430</td>\n",
       "      <td>39010</td>\n",
       "      <td>39430.0</td>\n",
       "      <td>1147400</td>\n",
       "      <td>40518.332031</td>\n",
       "      <td>1180933.375</td>\n",
       "      <td>41287.691406</td>\n",
       "      <td>1511592.25</td>\n",
       "      <td>0.000000</td>\n",
       "      <td>False</td>\n",
       "      <td>Monday</td>\n",
       "      <td>4</td>\n",
       "      <td>4</td>\n",
       "      <td>1</td>\n",
       "      <td>False</td>\n",
       "      <td>0</td>\n",
       "      <td>NaN</td>\n",
       "      <td>NaN</td>\n",
       "      <td>NaN</td>\n",
       "      <td>NaN</td>\n",
       "      <td>NaN</td>\n",
       "      <td>NaN</td>\n",
       "    </tr>\n",
       "    <tr>\n",
       "      <th>1</th>\n",
       "      <td>MWG</td>\n",
       "      <td>2021-01-05</td>\n",
       "      <td>39230</td>\n",
       "      <td>40090</td>\n",
       "      <td>39100</td>\n",
       "      <td>39860.0</td>\n",
       "      <td>967500</td>\n",
       "      <td>40518.332031</td>\n",
       "      <td>1180933.375</td>\n",
       "      <td>41287.691406</td>\n",
       "      <td>1511592.25</td>\n",
       "      <td>0.010905</td>\n",
       "      <td>False</td>\n",
       "      <td>Tuesday</td>\n",
       "      <td>5</td>\n",
       "      <td>5</td>\n",
       "      <td>1</td>\n",
       "      <td>False</td>\n",
       "      <td>1</td>\n",
       "      <td>39430.0</td>\n",
       "      <td>NaN</td>\n",
       "      <td>NaN</td>\n",
       "      <td>1147400.0</td>\n",
       "      <td>NaN</td>\n",
       "      <td>NaN</td>\n",
       "    </tr>\n",
       "    <tr>\n",
       "      <th>2</th>\n",
       "      <td>MWG</td>\n",
       "      <td>2021-01-06</td>\n",
       "      <td>40210</td>\n",
       "      <td>40210</td>\n",
       "      <td>39460</td>\n",
       "      <td>39660.0</td>\n",
       "      <td>995500</td>\n",
       "      <td>40518.332031</td>\n",
       "      <td>1180933.375</td>\n",
       "      <td>41287.691406</td>\n",
       "      <td>1511592.25</td>\n",
       "      <td>-0.005018</td>\n",
       "      <td>False</td>\n",
       "      <td>Wednesday</td>\n",
       "      <td>6</td>\n",
       "      <td>6</td>\n",
       "      <td>1</td>\n",
       "      <td>False</td>\n",
       "      <td>2</td>\n",
       "      <td>39860.0</td>\n",
       "      <td>39430.0</td>\n",
       "      <td>NaN</td>\n",
       "      <td>967500.0</td>\n",
       "      <td>1147400.0</td>\n",
       "      <td>NaN</td>\n",
       "    </tr>\n",
       "    <tr>\n",
       "      <th>3</th>\n",
       "      <td>MWG</td>\n",
       "      <td>2021-01-07</td>\n",
       "      <td>39400</td>\n",
       "      <td>39630</td>\n",
       "      <td>39130</td>\n",
       "      <td>39500.0</td>\n",
       "      <td>1118100</td>\n",
       "      <td>40518.332031</td>\n",
       "      <td>1180933.375</td>\n",
       "      <td>41287.691406</td>\n",
       "      <td>1511592.25</td>\n",
       "      <td>-0.004034</td>\n",
       "      <td>False</td>\n",
       "      <td>Thursday</td>\n",
       "      <td>7</td>\n",
       "      <td>7</td>\n",
       "      <td>1</td>\n",
       "      <td>False</td>\n",
       "      <td>3</td>\n",
       "      <td>39660.0</td>\n",
       "      <td>39860.0</td>\n",
       "      <td>39430.0</td>\n",
       "      <td>995500.0</td>\n",
       "      <td>967500.0</td>\n",
       "      <td>1147400.0</td>\n",
       "    </tr>\n",
       "    <tr>\n",
       "      <th>4</th>\n",
       "      <td>MWG</td>\n",
       "      <td>2021-01-08</td>\n",
       "      <td>39500</td>\n",
       "      <td>40180</td>\n",
       "      <td>39500</td>\n",
       "      <td>39830.0</td>\n",
       "      <td>1277600</td>\n",
       "      <td>40518.332031</td>\n",
       "      <td>1180933.375</td>\n",
       "      <td>41287.691406</td>\n",
       "      <td>1511592.25</td>\n",
       "      <td>0.008354</td>\n",
       "      <td>False</td>\n",
       "      <td>Friday</td>\n",
       "      <td>8</td>\n",
       "      <td>8</td>\n",
       "      <td>1</td>\n",
       "      <td>False</td>\n",
       "      <td>4</td>\n",
       "      <td>39500.0</td>\n",
       "      <td>39660.0</td>\n",
       "      <td>39860.0</td>\n",
       "      <td>1118100.0</td>\n",
       "      <td>995500.0</td>\n",
       "      <td>967500.0</td>\n",
       "    </tr>\n",
       "  </tbody>\n",
       "</table>\n",
       "</div>"
      ],
      "text/plain": [
       "  ticker       time   open   high    low    close   volume   close_MA_12  \\\n",
       "0    MWG 2021-01-04  39080  39430  39010  39430.0  1147400  40518.332031   \n",
       "1    MWG 2021-01-05  39230  40090  39100  39860.0   967500  40518.332031   \n",
       "2    MWG 2021-01-06  40210  40210  39460  39660.0   995500  40518.332031   \n",
       "3    MWG 2021-01-07  39400  39630  39130  39500.0  1118100  40518.332031   \n",
       "4    MWG 2021-01-08  39500  40180  39500  39830.0  1277600  40518.332031   \n",
       "\n",
       "   volume_MA_12   close_MA_26  volume_MA_26  close_pct  holidays day_in_week  \\\n",
       "0   1180933.375  41287.691406    1511592.25   0.000000     False      Monday   \n",
       "1   1180933.375  41287.691406    1511592.25   0.010905     False     Tuesday   \n",
       "2   1180933.375  41287.691406    1511592.25  -0.005018     False   Wednesday   \n",
       "3   1180933.375  41287.691406    1511592.25  -0.004034     False    Thursday   \n",
       "4   1180933.375  41287.691406    1511592.25   0.008354     False      Friday   \n",
       "\n",
       "   day_in_month  day_in_year  month_in_year  weekend  time_idx  \\\n",
       "0             4            4              1    False         0   \n",
       "1             5            5              1    False         1   \n",
       "2             6            6              1    False         2   \n",
       "3             7            7              1    False         3   \n",
       "4             8            8              1    False         4   \n",
       "\n",
       "   close_lagged_by_1  close_lagged_by_2  close_lagged_by_3  \\\n",
       "0                NaN                NaN                NaN   \n",
       "1            39430.0                NaN                NaN   \n",
       "2            39860.0            39430.0                NaN   \n",
       "3            39660.0            39860.0            39430.0   \n",
       "4            39500.0            39660.0            39860.0   \n",
       "\n",
       "   volume_lagged_by_1  volume_lagged_by_2  volume_lagged_by_3  \n",
       "0                 NaN                 NaN                 NaN  \n",
       "1           1147400.0                 NaN                 NaN  \n",
       "2            967500.0           1147400.0                 NaN  \n",
       "3            995500.0            967500.0           1147400.0  \n",
       "4           1118100.0            995500.0            967500.0  "
      ]
     },
     "execution_count": 25,
     "metadata": {},
     "output_type": "execute_result"
    }
   ],
   "source": [
    "df.head()"
   ]
  },
  {
   "cell_type": "code",
   "execution_count": 26,
   "metadata": {},
   "outputs": [],
   "source": [
    "df1 = df.copy()"
   ]
  },
  {
   "cell_type": "code",
   "execution_count": 27,
   "metadata": {},
   "outputs": [],
   "source": [
    "df = df_temp.copy()"
   ]
  },
  {
   "cell_type": "code",
   "execution_count": 28,
   "metadata": {},
   "outputs": [],
   "source": [
    "history_stock_preprocessor = HistoryStockPreprocess(df, data_config=data_config, \n",
    "                                                    window_width_list=window_widths,\n",
    "                                                    lag_dict=lag_dict, \n",
    "                                                    special_days=vn_holidays,\n",
    "                                                    ma_fill_method= BackwardFillStrategy(limit = max(window_widths)),\n",
    "                                                    pct_fill_method=ConstantFillStrategy(constant_value=0),\n",
    "                                                    lag_fill_method=ForwardFillStrategy(),\n",
    "                                                    )"
   ]
  },
  {
   "cell_type": "code",
   "execution_count": 29,
   "metadata": {},
   "outputs": [
    {
     "name": "stdout",
     "output_type": "stream",
     "text": [
      "There are 0 duplicate rows.\n",
      "Duplicated rows has been removed!\n",
      "calculate_MA took 0.00 seconds to execute.\n",
      "calculate_pct_change took 0.01 seconds to execute.\n",
      "generate_time_features took 0.01 seconds to execute.\n",
      "create_lag_features took 0.01 seconds to execute.\n",
      "get_preprocessing took 0.04 seconds to execute.\n"
     ]
    }
   ],
   "source": [
    "df = history_stock_preprocessor.get_preprocessing()"
   ]
  },
  {
   "cell_type": "code",
   "execution_count": 30,
   "metadata": {},
   "outputs": [
    {
     "name": "stdout",
     "output_type": "stream",
     "text": [
      "True\n"
     ]
    }
   ],
   "source": [
    "print (df.equals(df1))"
   ]
  }
 ],
 "metadata": {
  "kernelspec": {
   "display_name": "env",
   "language": "python",
   "name": "python3"
  },
  "language_info": {
   "codemirror_mode": {
    "name": "ipython",
    "version": 3
   },
   "file_extension": ".py",
   "mimetype": "text/x-python",
   "name": "python",
   "nbconvert_exporter": "python",
   "pygments_lexer": "ipython3",
   "version": "3.10.6"
  },
  "orig_nbformat": 4
 },
 "nbformat": 4,
 "nbformat_minor": 2
}
