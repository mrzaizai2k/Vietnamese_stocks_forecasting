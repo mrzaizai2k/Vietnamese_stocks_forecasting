{
 "cells": [
  {
   "cell_type": "code",
   "execution_count": 1,
   "metadata": {},
   "outputs": [],
   "source": [
    "import os\n",
    "root = \"/root/code_Bao/Vietnamese_stocks_forecasting\" # ubuntu\n",
    "# root = 'D:\\Project\\Vietnamese_stocks_forecasting' # win\n",
    "os.chdir(root)"
   ]
  },
  {
   "cell_type": "code",
   "execution_count": 2,
   "metadata": {},
   "outputs": [],
   "source": [
    "import numpy as np\n",
    "import pandas as pd\n",
    "pd.set_option('display.max_columns', None)\n",
    "\n",
    "# Draw\n",
    "import math\n",
    "\n",
    "from vnstock import * #Load vietnamese data\n",
    "import holidays # Load Vietnamese holidays\n",
    "\n",
    "from tqdm import tqdm\n",
    "import yaml\n",
    "\n",
    "from src.utils.config_parse import DataConfigReader"
   ]
  },
  {
   "cell_type": "markdown",
   "metadata": {},
   "source": [
    "# Read data"
   ]
  },
  {
   "cell_type": "code",
   "execution_count": 3,
   "metadata": {},
   "outputs": [],
   "source": [
    "symbol = 'MWG'\n",
    "start_date = \"2021-01-01\" #(YYYY-MM-DD)\n",
    "end_date = '2023-07-18'"
   ]
  },
  {
   "cell_type": "code",
   "execution_count": 4,
   "metadata": {},
   "outputs": [],
   "source": [
    "data_config = DataConfigReader(\n",
    "    data_config_path='config/raw_data_config.yaml',\n",
    "    dtype_config_path='config/data_type_dict.yaml',\n",
    "    section='Historical_price'\n",
    ")"
   ]
  },
  {
   "cell_type": "code",
   "execution_count": 6,
   "metadata": {},
   "outputs": [
    {
     "data": {
      "text/html": [
       "<div>\n",
       "<style scoped>\n",
       "    .dataframe tbody tr th:only-of-type {\n",
       "        vertical-align: middle;\n",
       "    }\n",
       "\n",
       "    .dataframe tbody tr th {\n",
       "        vertical-align: top;\n",
       "    }\n",
       "\n",
       "    .dataframe thead th {\n",
       "        text-align: right;\n",
       "    }\n",
       "</style>\n",
       "<table border=\"1\" class=\"dataframe\">\n",
       "  <thead>\n",
       "    <tr style=\"text-align: right;\">\n",
       "      <th></th>\n",
       "      <th>time</th>\n",
       "      <th>open</th>\n",
       "      <th>high</th>\n",
       "      <th>low</th>\n",
       "      <th>close</th>\n",
       "      <th>volume</th>\n",
       "      <th>ticker</th>\n",
       "    </tr>\n",
       "  </thead>\n",
       "  <tbody>\n",
       "    <tr>\n",
       "      <th>0</th>\n",
       "      <td>2021-01-04</td>\n",
       "      <td>39080</td>\n",
       "      <td>39430</td>\n",
       "      <td>39010</td>\n",
       "      <td>39430</td>\n",
       "      <td>1147400</td>\n",
       "      <td>MWG</td>\n",
       "    </tr>\n",
       "    <tr>\n",
       "      <th>1</th>\n",
       "      <td>2021-01-05</td>\n",
       "      <td>39230</td>\n",
       "      <td>40090</td>\n",
       "      <td>39100</td>\n",
       "      <td>39860</td>\n",
       "      <td>967500</td>\n",
       "      <td>MWG</td>\n",
       "    </tr>\n",
       "    <tr>\n",
       "      <th>2</th>\n",
       "      <td>2021-01-06</td>\n",
       "      <td>40210</td>\n",
       "      <td>40210</td>\n",
       "      <td>39460</td>\n",
       "      <td>39660</td>\n",
       "      <td>995500</td>\n",
       "      <td>MWG</td>\n",
       "    </tr>\n",
       "    <tr>\n",
       "      <th>3</th>\n",
       "      <td>2021-01-07</td>\n",
       "      <td>39400</td>\n",
       "      <td>39630</td>\n",
       "      <td>39130</td>\n",
       "      <td>39500</td>\n",
       "      <td>1118100</td>\n",
       "      <td>MWG</td>\n",
       "    </tr>\n",
       "    <tr>\n",
       "      <th>4</th>\n",
       "      <td>2021-01-08</td>\n",
       "      <td>39500</td>\n",
       "      <td>40180</td>\n",
       "      <td>39500</td>\n",
       "      <td>39830</td>\n",
       "      <td>1277600</td>\n",
       "      <td>MWG</td>\n",
       "    </tr>\n",
       "  </tbody>\n",
       "</table>\n",
       "</div>"
      ],
      "text/plain": [
       "         time   open   high    low  close   volume ticker\n",
       "0  2021-01-04  39080  39430  39010  39430  1147400    MWG\n",
       "1  2021-01-05  39230  40090  39100  39860   967500    MWG\n",
       "2  2021-01-06  40210  40210  39460  39660   995500    MWG\n",
       "3  2021-01-07  39400  39630  39130  39500  1118100    MWG\n",
       "4  2021-01-08  39500  40180  39500  39830  1277600    MWG"
      ]
     },
     "execution_count": 6,
     "metadata": {},
     "output_type": "execute_result"
    }
   ],
   "source": [
    "data_path = 'data/raw/historical_price/MWG.csv'\n",
    "df = pd.read_csv(data_path, usecols= data_config.read_column_names(), \n",
    "                 dtype=data_config.read_data_type())\n",
    "df.head()"
   ]
  },
  {
   "cell_type": "code",
   "execution_count": 7,
   "metadata": {},
   "outputs": [
    {
     "name": "stdout",
     "output_type": "stream",
     "text": [
      "<class 'pandas.core.frame.DataFrame'>\n",
      "RangeIndex: 132 entries, 0 to 131\n",
      "Data columns (total 7 columns):\n",
      " #   Column  Non-Null Count  Dtype   \n",
      "---  ------  --------------  -----   \n",
      " 0   time    132 non-null    object  \n",
      " 1   open    132 non-null    int64   \n",
      " 2   high    132 non-null    int64   \n",
      " 3   low     132 non-null    int64   \n",
      " 4   close   132 non-null    int64   \n",
      " 5   volume  132 non-null    int64   \n",
      " 6   ticker  132 non-null    category\n",
      "dtypes: category(1), int64(5), object(1)\n",
      "memory usage: 6.4+ KB\n"
     ]
    }
   ],
   "source": [
    "df.info()"
   ]
  },
  {
   "cell_type": "code",
   "execution_count": 8,
   "metadata": {},
   "outputs": [
    {
     "data": {
      "text/plain": [
       "Index(['time', 'open', 'high', 'low', 'close', 'volume', 'ticker'], dtype='object')"
      ]
     },
     "execution_count": 8,
     "metadata": {},
     "output_type": "execute_result"
    }
   ],
   "source": [
    "df.columns"
   ]
  },
  {
   "cell_type": "code",
   "execution_count": null,
   "metadata": {},
   "outputs": [],
   "source": []
  }
 ],
 "metadata": {
  "kernelspec": {
   "display_name": "env",
   "language": "python",
   "name": "python3"
  },
  "language_info": {
   "codemirror_mode": {
    "name": "ipython",
    "version": 3
   },
   "file_extension": ".py",
   "mimetype": "text/x-python",
   "name": "python",
   "nbconvert_exporter": "python",
   "pygments_lexer": "ipython3",
   "version": "3.10.6"
  },
  "orig_nbformat": 4
 },
 "nbformat": 4,
 "nbformat_minor": 2
}
